{
  "nbformat": 4,
  "nbformat_minor": 0,
  "metadata": {
    "colab": {
      "name": "13_2_Ponder_and_Prove_Many_Things.ipynb",
      "provenance": []
    },
    "kernelspec": {
      "name": "python3",
      "display_name": "Python 3"
    },
    "language_info": {
      "name": "python"
    }
  },
  "cells": [
    {
      "cell_type": "markdown",
      "metadata": {
        "id": "0GZOWnts9NAD"
      },
      "source": [
        "# Ponder and Prove Many Things\n",
        "## Due: Thursday, 1 April 2021, 11:59 pm"
      ]
    },
    {
      "cell_type": "markdown",
      "metadata": {
        "id": "S5XdXGMv9dy4"
      },
      "source": [
        "### Is It Decidable?"
      ]
    },
    {
      "cell_type": "markdown",
      "metadata": {
        "id": "Gzy9wIboAVvi"
      },
      "source": [
        "#### TODO Study and run the code below."
      ]
    },
    {
      "cell_type": "markdown",
      "metadata": {
        "id": "218Qmbtx9lP6"
      },
      "source": [
        "And answer these questions:\n",
        "1. What is this program computing?\n",
        "2. How does it do it?\n",
        "3. Will it ever terminate?"
      ]
    },
    {
      "cell_type": "code",
      "metadata": {
        "id": "LfltDFaw9trA"
      },
      "source": [
        "from math import log2\n",
        "\n",
        "def you_decide():\n",
        "  flibbers = [17,78,19,23,29,77,95,77,1,11,13,15,15,55]\n",
        "  flobbers = [91,85,51,38,33,29,23,19,17,13,11,14,2,1]\n",
        "  i = 2\n",
        "  time_keeps_ticking = True\n",
        "  while time_keeps_ticking:\n",
        "    time_keeps_ticking = False\n",
        "    for n in range(len(flibbers)):\n",
        "      f = i * flibbers[n]\n",
        "      if not f % flobbers[n]:\n",
        "        i = f // flobbers[n]\n",
        "        p = log2(i)\n",
        "        if p.is_integer():\n",
        "          print(i)\n",
        "        time_keeps_ticking = True\n",
        "        break"
      ],
      "execution_count": 4,
      "outputs": []
    },
    {
      "cell_type": "code",
      "metadata": {
        "id": "fGZ9lZCP9xWC"
      },
      "source": [
        "you_decide()"
      ],
      "execution_count": null,
      "outputs": []
    },
    {
      "cell_type": "markdown",
      "metadata": {
        "id": "oqZ3784B-EyX"
      },
      "source": [
        "### Fun With Decidability"
      ]
    },
    {
      "cell_type": "markdown",
      "metadata": {
        "id": "aeiVo2WpkySc"
      },
      "source": [
        "#### TODO Read and Share"
      ]
    },
    {
      "cell_type": "markdown",
      "metadata": {
        "id": "i13mpSpd-O39"
      },
      "source": [
        "Read [Can't Decide? Undecide! by Chaim Goodman-Strauss](https://strauss.hosted.uark.edu/papers/decide.pdf)\n",
        "\n",
        "**What I Learned**\n",
        "\n",
        "1. I learned that there are some problems which are undecidable.  I also learned the definition of undecidible, which is a problem in which a pattern is very difficult to establish.  It means that you get vastly different outputs, even when only changing the input very little.\n",
        "\n",
        "2. I also learned that the idea of undecidable problems paradoxical in its very nature.  This is in the sense that mathematicians can't even agree upon whether some problems are undecidable or not.\n",
        "\n",
        "3. I did not know that there was a distinction specified for harder problems in mathematics.  Appearantly this distinction is known as NP Hard.\n",
        "\n",
        "4.  I had no idea that so many of these complex undecidable problems existed, or what they were.  I had never heard of the tiling problems, or the fractan.  I knew about P vs. NP, but not in the way it was explained here.\n",
        "\n",
        "5. I did not know that the Word Ladder of Conway's Game of Life were potentially undecidable.  Since those were problems I actually understood a little bit better, it was interesting to read about them.\n",
        "\n",
        "6. Since I did not know about undecidable, I really did not know about semi-decidable.  It does make sense that you can prove a yes answer, but might not be able to prove a no answer.\n",
        "\n",
        "**What I Knew**\n",
        "\n",
        "1. I already knew that there were problems that had no answer (as of yet), but I was not aware of problems that were undecidable.\n",
        "\n",
        "2. I did know that some ideas in mathematics were difficult and many people in their everyday lives took aspects of this complexity for granted.\n",
        "\n",
        "3. I knew that there were some things that even the best computers can't do because they are finite machines.\n",
        "\n",
        "4. I knew that many of the really difficult problems in mathematics have someone willing to give away some sort of cash prize to anyone who can prove that they have solved the problem. \n",
        "\n",
        "5. I had heard of NP problems before and knew some of the examples given, but I didn't know that that was an official distinction as to how hadr a given problem was to find a satisfying answer.\n",
        "\n",
        "6. I knew about P vs. NP, but this was a way of looking at it that I had not seen before.  What I had learned before is that P is the complexity or time it would take a given algorithrm to solve (say Minesweeper), and NP is the complexity or amount of time it would take for another algorithm to figure out if that solution is correct.  P vs. NP is asking if those two can ever be equal."
      ]
    },
    {
      "cell_type": "markdown",
      "metadata": {
        "id": "gjeWZ0Mo-r6E"
      },
      "source": [
        "### The Map of Mathematics"
      ]
    },
    {
      "cell_type": "markdown",
      "metadata": {
        "id": "xFFVrRTl-wY9"
      },
      "source": [
        "[The entire field of mathematics summarized in a single map!](https://www.youtube.com/watch?v=OmJ-4B-mS-Y) --- direct link, or embedded below.\n",
        "\n",
        "This video shows how pure mathematics and applied mathematics relate to each other and all of the sub-topics they are made from."
      ]
    },
    {
      "cell_type": "code",
      "metadata": {
        "id": "Wd_Ny-gS-zpk"
      },
      "source": [
        "from IPython.display import YouTubeVideo\n",
        "YouTubeVideo('OmJ-4B-mS-Y') # 11 minutes 5 seconds"
      ],
      "execution_count": null,
      "outputs": []
    },
    {
      "cell_type": "markdown",
      "metadata": {
        "id": "8PD-pimc-1dk"
      },
      "source": [
        "#### TODO Watch and Share"
      ]
    },
    {
      "cell_type": "markdown",
      "metadata": {
        "id": "9WIEkJ0p-9JD"
      },
      "source": [
        "**What I Learned**\n",
        "\n",
        "1. I didn't know that zero was first used in India, although I did know it was Arabic in origin. That was interesting.\n",
        "\n",
        "2. I didn't know how the different catagories of mathematics were related to each other.  I thought it was interesting to see it all layed out like that.\n",
        "\n",
        "3. I didn't know Game Theory would show up on the (at least in the way that it did).  I knew that Computer Science used lots of math, but I did not know they would specify Game Theory.  Having taken a class on Game Theory, I thought that was interesting.\n",
        "\n",
        "4. I did not know that Set Theory and Category Theory were part of the foundations of mathematics.  The friend I have (which I mention later) did a Senior Project on Category Theory.  He tried to explain it to me, and I actually understood a tiny bit of it, but it mostly went over my head. \n",
        "\n",
        "5. i did not know there were so many more areas of mathematics that I had never even heard of.\n",
        "\n",
        "6. I was not aware of the amount of different branches of mathematics.  I thought that map was really interesting, especially when he zoomed it out, so I could look at the whole thing.\n",
        "\n",
        "**What I knew**\n",
        "\n",
        "1. I knew about the distinction between Pure Mathematics and Applied Mathematics.  I had a friend who recently graduated who was into Pure Mathematics, but didn't really like Applied Mathematics.\n",
        "\n",
        "2. I did know that in mathematics and science that many discoveries happened by accident, but not necessarily that they were built so much off of previous work.\n",
        "\n",
        "3. I knew about natural numbers, rational numbers, integers, irrational numbers, and complex numbers, but i didn't recognize the other types of numbers he mentioned.\n",
        "\n",
        "4. I knew that Physics and Chemistry would be represented some where on this map.  I'm currently taking Chemistry, and we do a lot of math.\n",
        "\n",
        "5. I knew that many (if not all) of the areas within Applied Mathematics used many different things from the Pure Mathematics field.\n",
        "\n",
        "6. I actually knew that we made up mathematics.  I figured that we make up everything we know, so mathematics is no different, except that it is not fictious.  Mathematics (and Science) is made up as a way for us to understand the world around us, so it's as true as we can make it, but it is still made up by humans. \n",
        "\n",
        "\n"
      ]
    },
    {
      "cell_type": "markdown",
      "metadata": {
        "id": "nfxMo9bl_TZA"
      },
      "source": [
        "### The Map of Computer Science"
      ]
    },
    {
      "cell_type": "markdown",
      "metadata": {
        "id": "bM9Dst0d_tIW"
      },
      "source": [
        "[The field of computer science similarly summarized.](https://www.youtube.com/watch?v=SzJ46YA_RaA) --- direct link, or embedded below."
      ]
    },
    {
      "cell_type": "code",
      "metadata": {
        "id": "LnBJvrbi_xIp"
      },
      "source": [
        "from IPython.display import YouTubeVideo\n",
        "YouTubeVideo('SzJ46YA_RaA') # 10 minutes 57 seconds"
      ],
      "execution_count": null,
      "outputs": []
    },
    {
      "cell_type": "markdown",
      "metadata": {
        "id": "5194ShLd_zjU"
      },
      "source": [
        "#### TODO Watch and Share"
      ]
    },
    {
      "cell_type": "markdown",
      "metadata": {
        "id": "zTI_XHCU_1HW"
      },
      "source": [
        "**What I Learned**\n",
        "\n",
        "1. I had heard that a cell phone has more computing power than the stuff that NASA used to get to the moon, but I had no idea that it is more than all the computing power in the world in the 1960's.  That's crazy!  I guess we have come a long way.\n",
        "\n",
        "2. i didn't know that as a programming language gets closer to the hardware, it gets more difficult for humans to use.  I guess thsi makes sense.  I struggled to understand Assembly in my Comp Arch class.\n",
        "\n",
        "3. I didn't know there could be so many levels of compilers.  It's interesting to see it all layed out like that.\n",
        "\n",
        "4. I didn't know that optimization was such a big part of Computer Science.  I suppose it must be (at least in the real world).  Nobody wants a slow or inefficient computer.\n",
        "\n",
        "5. I was not aware that AI and machine learning was the forefront of Computer Science, but it seems to make sense.\n",
        "\n",
        "6. I was not aware that hacking was not considered a traditional discipline.\n",
        "\n",
        "\n",
        "**What I knew**\n",
        "\n",
        "1. I knew that computers were just binary, or flipping 0s and 1s.\n",
        "\n",
        "2. I knew that a Turing Maching is basically just a computer.\n",
        "\n",
        "3. I knew that an algorithm is a set of programming instructions.\n",
        "\n",
        "4. Since I've taken all three Software Engineering courses, I knew a little bit about the \"best practices\" he was talking about when describing Software Engineering. \n",
        "\n",
        "5. I knew that Computer Vision or facial recognition was a thing.  It's really interesting, if a bit scary how fast it's developing.\n",
        "\n",
        "6.  I knew that AI and machine learning used big data to learn and make decisions."
      ]
    },
    {
      "cell_type": "markdown",
      "metadata": {
        "id": "fPu3fWgR_3hI"
      },
      "source": [
        "### SKIP Report"
      ]
    },
    {
      "cell_type": "markdown",
      "metadata": {
        "id": "JoO9lagO_5lt"
      },
      "source": [
        "The sentences you have already (supposedly) written will suffice."
      ]
    },
    {
      "cell_type": "markdown",
      "metadata": {
        "id": "shpEERFS_87F"
      },
      "source": [
        "### SKIP Self-Assessment"
      ]
    },
    {
      "cell_type": "markdown",
      "metadata": {
        "id": "yWvKYeqc__bX"
      },
      "source": [
        "Instead, you will have ilearn peer reviews to complete."
      ]
    }
  ]
}